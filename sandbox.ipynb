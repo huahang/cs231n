{
 "cells": [
  {
   "cell_type": "code",
   "execution_count": null,
   "metadata": {},
   "outputs": [],
   "source": [
    "import numpy as np\n",
    "import matplotlib.pyplot as plt\n",
    "import torch"
   ]
  },
  {
   "cell_type": "code",
   "execution_count": null,
   "metadata": {},
   "outputs": [],
   "source": [
    "T1 =torch.arange(0, 1, 0.3)\n",
    "print(T1)\n",
    "T2 =torch.arange(1, 3, 0.7)\n",
    "print(T2)\n",
    "(T1, T2) = torch.meshgrid(T1, T2, indexing='xy')\n",
    "print(T1.shape)\n",
    "print(T2.shape)\n",
    "T1 = T1.unsqueeze(2)\n",
    "T2 = T2.unsqueeze(2)\n",
    "print(T1.shape)\n",
    "print(T2.shape)\n",
    "torch.cat((T1, T2), 2).shape"
   ]
  },
  {
   "cell_type": "code",
   "execution_count": null,
   "metadata": {},
   "outputs": [],
   "source": [
    "name = [ \"Manjeet\", \"Nikhil\", \"Shambhavi\" ]\n",
    "roll_no = [ 4, 1, 3, 2 ]\n",
    "# using zip() to map values\n",
    "mapped = zip(name, roll_no)\n",
    "for item in mapped:\n",
    "    a, b = item\n",
    "    print(a, b)\n",
    "\n",
    "# zip+enumerate\n",
    "for i, (a, b) in enumerate(zip(name, roll_no)):\n",
    "    print(i, a, b)"
   ]
  },
  {
   "cell_type": "code",
   "execution_count": null,
   "metadata": {},
   "outputs": [],
   "source": [
    "import numpy as np\n",
    "\n",
    "a = np.array([1, 2, 3])\n",
    "print(a.shape)\n",
    "print(a[None].shape)\n",
    "b = np.array([a, a])\n",
    "print(b.shape)\n",
    "print(b[None].shape)\n"
   ]
  },
  {
   "cell_type": "code",
   "execution_count": null,
   "metadata": {},
   "outputs": [],
   "source": [
    "import fiftyone as fo\n",
    "\n",
    "dataset = fo.Dataset.from_dir(\n",
    "    name=\"my-dataset-test\",\n",
    "    dataset_type=fo.types.COCODetectionDataset,\n",
    "    data_path=\"/data/Data/coco2017/train2017\",\n",
    "    labels_path=\"/data/Data/coco2017/annotations/instances_train2017.json\",\n",
    ")"
   ]
  },
  {
   "cell_type": "code",
   "execution_count": null,
   "metadata": {},
   "outputs": [],
   "source": [
    "session = fo.launch_app(dataset)"
   ]
  }
 ],
 "metadata": {
  "kernelspec": {
   "display_name": "Python 3 (ipykernel)",
   "language": "python",
   "name": "python3"
  },
  "language_info": {
   "codemirror_mode": {
    "name": "ipython",
    "version": 3
   },
   "file_extension": ".py",
   "mimetype": "text/x-python",
   "name": "python",
   "nbconvert_exporter": "python",
   "pygments_lexer": "ipython3",
   "version": "3.8.18"
  }
 },
 "nbformat": 4,
 "nbformat_minor": 4
}
