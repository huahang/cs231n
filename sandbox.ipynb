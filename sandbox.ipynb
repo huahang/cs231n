{
 "cells": [
  {
   "cell_type": "code",
   "execution_count": 1,
   "metadata": {},
   "outputs": [],
   "source": [
    "import numpy as np\n",
    "import matplotlib.pyplot as plt\n",
    "import torch"
   ]
  },
  {
   "cell_type": "code",
   "execution_count": null,
   "metadata": {},
   "outputs": [],
   "source": [
    "T1 =torch.arange(0, 1, 0.3)\n",
    "print(T1)\n",
    "T2 =torch.arange(1, 3, 0.7)\n",
    "print(T2)\n",
    "(T1, T2) = torch.meshgrid(T1, T2, indexing='xy')\n",
    "print(T1.shape)\n",
    "print(T2.shape)\n",
    "T1 = T1.unsqueeze(2)\n",
    "T2 = T2.unsqueeze(2)\n",
    "print(T1.shape)\n",
    "print(T2.shape)\n",
    "torch.cat((T1, T2), 2).shape"
   ]
  },
  {
   "cell_type": "code",
   "execution_count": null,
   "metadata": {},
   "outputs": [],
   "source": [
    "name = [ \"Manjeet\", \"Nikhil\", \"Shambhavi\" ]\n",
    "roll_no = [ 4, 1, 3, 2 ]\n",
    "# using zip() to map values\n",
    "mapped = zip(name, roll_no)\n",
    "for item in mapped:\n",
    "    a, b = item\n",
    "    print(a, b)\n",
    "\n",
    "# zip+enumerate\n",
    "for i, (a, b) in enumerate(zip(name, roll_no)):\n",
    "    print(i, a, b)"
   ]
  },
  {
   "cell_type": "code",
   "execution_count": null,
   "metadata": {},
   "outputs": [],
   "source": [
    "import numpy as np\n",
    "\n",
    "a = np.array([1, 2, 3])\n",
    "print(a.shape)\n",
    "print(a[None].shape)\n",
    "b = np.array([a, a])\n",
    "print(b.shape)\n",
    "print(b[None].shape)\n"
   ]
  },
  {
   "cell_type": "code",
   "execution_count": null,
   "metadata": {},
   "outputs": [
    {
     "name": "stdout",
     "output_type": "stream",
     "text": []
    },
    {
     "name": "stdout",
     "output_type": "stream",
     "text": [
      "  33% |███--------|  39163/118287 [7.7m elapsed, 15.1m remaining, 93.3 samples/s]    "
     ]
    }
   ],
   "source": [
    "import fiftyone as fo\n",
    "\n",
    "dataset = fo.Dataset.from_dir(\n",
    "    name=\"my-dataset-test555\",\n",
    "    dataset_type=fo.types.COCODetectionDataset,\n",
    "    data_path=\"/home/hans/Data/coco2017/train2017\",\n",
    "    labels_path=\"/home/hans/Data/coco2017/annotations/instances_train2017.json\",\n",
    ")"
   ]
  },
  {
   "cell_type": "code",
   "execution_count": 5,
   "metadata": {},
   "outputs": [
    {
     "data": {
      "text/html": [
       "\n",
       "        <iframe\n",
       "            width=\"100%\"\n",
       "            height=\"800\"\n",
       "            src=\"http://localhost:5151/?notebook=True&subscription=118d547d-10bd-42da-9ef4-dc4675a0560e\"\n",
       "            frameborder=\"0\"\n",
       "            allowfullscreen\n",
       "            \n",
       "        ></iframe>\n",
       "        "
      ],
      "text/plain": [
       "<IPython.lib.display.IFrame at 0x7f0eb8998b20>"
      ]
     },
     "metadata": {},
     "output_type": "display_data"
    }
   ],
   "source": [
    "session = fo.launch_app(dataset)"
   ]
  }
 ],
 "metadata": {
  "kernelspec": {
   "display_name": "Python 3 (ipykernel)",
   "language": "python",
   "name": "python3"
  },
  "language_info": {
   "codemirror_mode": {
    "name": "ipython",
    "version": 3
   },
   "file_extension": ".py",
   "mimetype": "text/x-python",
   "name": "python",
   "nbconvert_exporter": "python",
   "pygments_lexer": "ipython3",
   "version": "3.8.18"
  }
 },
 "nbformat": 4,
 "nbformat_minor": 4
}
