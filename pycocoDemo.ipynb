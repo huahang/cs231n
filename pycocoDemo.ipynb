{
 "cells": [
  {
   "cell_type": "code",
   "execution_count": null,
   "metadata": {},
   "outputs": [],
   "source": [
    "%load_ext autoreload\n",
    "%autoreload 2\n",
    "%matplotlib inline"
   ]
  },
  {
   "cell_type": "code",
   "execution_count": null,
   "metadata": {
    "collapsed": true
   },
   "outputs": [],
   "source": [
    "from pycocotools.coco import COCO\n",
    "import numpy as np\n",
    "import skimage.io as io\n",
    "import matplotlib.pyplot as plt\n",
    "import pylab\n",
    "pylab.rcParams['figure.figsize'] = (8.0, 10.0)"
   ]
  },
  {
   "cell_type": "code",
   "execution_count": null,
   "metadata": {
    "collapsed": true
   },
   "outputs": [],
   "source": [
    "import os\n",
    "\n",
    "homeDir = os.environ[\"HOME\"]\n",
    "dataDir = f'{homeDir}/Data/coco2017'\n",
    "imageDir = f'{dataDir}/train2017'\n",
    "annFile = f'{dataDir}/annotations/instances_train2017.json'"
   ]
  },
  {
   "cell_type": "code",
   "execution_count": null,
   "metadata": {},
   "outputs": [],
   "source": [
    "# initialize COCO api for instance annotations\n",
    "coco=COCO(annotation_file=annFile)"
   ]
  },
  {
   "cell_type": "code",
   "execution_count": null,
   "metadata": {
    "scrolled": true
   },
   "outputs": [],
   "source": [
    "# display COCO categories and supercategories\n",
    "cats = coco.loadCats(coco.getCatIds())\n",
    "id_to_cat = {cat['id']: cat for cat in cats}"
   ]
  },
  {
   "cell_type": "code",
   "execution_count": null,
   "metadata": {},
   "outputs": [],
   "source": [
    "# get all images containing given categories, select one at random\n",
    "catIds = coco.getCatIds(catNms=['person','dog','skateboard'])\n",
    "imgIds = coco.getImgIds(catIds=catIds)\n",
    "img = coco.loadImgs(imgIds[np.random.randint(0,len(imgIds))])[0]"
   ]
  },
  {
   "cell_type": "code",
   "execution_count": null,
   "metadata": {},
   "outputs": [],
   "source": [
    "# load and display image\n",
    "from PIL import Image\n",
    "\n",
    "imgFile = img['file_name']\n",
    "I = Image.open(f'{imageDir}/{imgFile}')\n",
    "plt.axis('off')\n",
    "plt.imshow(I)\n",
    "plt.show()"
   ]
  },
  {
   "cell_type": "code",
   "execution_count": null,
   "metadata": {},
   "outputs": [],
   "source": [
    "import matplotlib as mpl\n",
    "\n",
    "fig, ax = plt.subplots()\n",
    "ax.imshow(I)\n",
    "annIds = coco.getAnnIds(imgIds=img['id'])\n",
    "anns = coco.loadAnns(annIds)\n",
    "for item in anns:\n",
    "    x0, y0, width, height = item['bbox']\n",
    "    ax.add_patch(\n",
    "        mpl.patches.Rectangle(\n",
    "            (x0, y0),\n",
    "            width ,\n",
    "            height ,\n",
    "            fill=False,\n",
    "            edgecolor=(0, 1, 0),\n",
    "            linewidth=1,\n",
    "            linestyle=':',\n",
    "        )\n",
    "    )\n",
    "    ax.text(\n",
    "        x0, y0, f\"{item['category_id']}\",\n",
    "        size=10, family=\"sans-serif\",\n",
    "        bbox={\n",
    "            \"facecolor\": \"gray\", \"alpha\": 0.5,\n",
    "            \"pad\": 0.7, \"edgecolor\": \"none\"\n",
    "        },\n",
    "        verticalalignment=\"top\",\n",
    "        color=(1, 1, 1),\n",
    "        zorder=10,\n",
    "    )"
   ]
  },
  {
   "cell_type": "code",
   "execution_count": null,
   "metadata": {},
   "outputs": [],
   "source": [
    "from transformers import DetrImageProcessor, DetrForObjectDetection\n",
    "import torch\n",
    "from PIL import Image\n",
    "import requests\n",
    "\n",
    "if torch.cuda.is_available():\n",
    "    print('Using GPU')\n",
    "    device = torch.device('cuda')\n",
    "elif torch.backends.mps.is_available():\n",
    "    print('Using MPS')\n",
    "    device = torch.device('mps')\n",
    "else:\n",
    "    print('Using CPU')\n",
    "    device = torch.device('cpu')\n",
    "\n",
    "image = I\n",
    "\n",
    "with torch.no_grad():\n",
    "    processor = DetrImageProcessor.from_pretrained(\"facebook/detr-resnet-101\")\n",
    "    model = DetrForObjectDetection.from_pretrained(\"facebook/detr-resnet-101\").to(device)\n",
    "    inputs = processor(images=image, return_tensors=\"pt\").to(device)\n",
    "    for k, v in inputs.items():\n",
    "        print(f\"{k}: {v.shape}\")\n",
    "    outputs = model(**inputs)\n",
    "    # convert outputs (bounding boxes and class logits) to COCO API\n",
    "    # let's only keep detections with score > 0.9\n",
    "    target_sizes = torch.tensor([image.size[::-1]])\n",
    "    results = processor.post_process_object_detection(outputs, target_sizes=target_sizes, threshold=0.9)[0]\n",
    "    # display the results\n",
    "    fig, ax = plt.subplots()\n",
    "    ax.imshow(I)\n",
    "    for score, label, box in zip(results[\"scores\"], results[\"labels\"], results[\"boxes\"]):\n",
    "        box = [round(i, 2) for i in box.tolist()]\n",
    "        x0, y0, x1, y1 = box\n",
    "        width, height = x1 - x0, y1 - y0\n",
    "        ax.add_patch(\n",
    "            mpl.patches.Rectangle(\n",
    "                (x0, y0),\n",
    "                width ,\n",
    "                height ,\n",
    "                fill=False,\n",
    "                edgecolor=(1, 0, 0),\n",
    "                linewidth=3,\n",
    "                linestyle=':',\n",
    "            )\n",
    "        )\n",
    "        ax.text(\n",
    "            x0, y0, f\"{model.config.id2label[label.item()]} (score:{round(score.item(), 3)})\",\n",
    "            size=10, family=\"sans-serif\",\n",
    "            bbox={\n",
    "                \"facecolor\": \"gray\", \"alpha\": 0.5,\n",
    "                \"pad\": 0.7, \"edgecolor\": \"none\"\n",
    "            },\n",
    "            verticalalignment=\"top\",\n",
    "            color=(1, 1, 1),\n",
    "            zorder=10)"
   ]
  }
 ],
 "metadata": {
  "kernelspec": {
   "display_name": "pycocotools",
   "language": "python",
   "name": "python3"
  },
  "language_info": {
   "codemirror_mode": {
    "name": "ipython",
    "version": 3
   },
   "file_extension": ".py",
   "mimetype": "text/x-python",
   "name": "python",
   "nbconvert_exporter": "python",
   "pygments_lexer": "ipython3",
   "version": "3.12.1"
  }
 },
 "nbformat": 4,
 "nbformat_minor": 1
}
