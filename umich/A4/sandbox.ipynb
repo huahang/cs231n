{
 "cells": [
  {
   "cell_type": "code",
   "execution_count": null,
   "metadata": {},
   "outputs": [],
   "source": [
    "import numpy as np\n",
    "import matplotlib.pyplot as plt\n",
    "import torch"
   ]
  },
  {
   "cell_type": "code",
   "execution_count": null,
   "metadata": {},
   "outputs": [],
   "source": [
    "T1 =torch.arange(0, 1, 0.3)\n",
    "print(T1)\n",
    "T2 =torch.arange(1, 3, 0.7)\n",
    "print(T2)\n",
    "(T1, T2) = torch.meshgrid(T1, T2, indexing='xy')\n",
    "print(T1.shape)\n",
    "print(T2.shape)\n",
    "T1 = T1.unsqueeze(2)\n",
    "T2 = T2.unsqueeze(2)\n",
    "print(T1.shape)\n",
    "print(T2.shape)\n",
    "torch.cat((T1, T2), 2).shape"
   ]
  }
 ],
 "metadata": {
  "kernelspec": {
   "display_name": "cs231n",
   "language": "python",
   "name": "python3"
  },
  "language_info": {
   "codemirror_mode": {
    "name": "ipython",
    "version": 3
   },
   "file_extension": ".py",
   "mimetype": "text/x-python",
   "name": "python",
   "nbconvert_exporter": "python",
   "pygments_lexer": "ipython3",
   "version": "3.8.18"
  }
 },
 "nbformat": 4,
 "nbformat_minor": 2
}
